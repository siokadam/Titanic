{
 "cells": [
  {
   "cell_type": "markdown",
   "id": "d9faffc7",
   "metadata": {},
   "source": [
    "<font size = 5><b>1. Importing libraries and datasets</b></font>"
   ]
  },
  {
   "cell_type": "markdown",
   "id": "9bc44242",
   "metadata": {},
   "source": [
    "<font size = 3><b>1.1. Importing libraries</b></font>"
   ]
  },
  {
   "cell_type": "code",
   "execution_count": 86,
   "id": "1df00700",
   "metadata": {},
   "outputs": [],
   "source": [
    "import numpy as np\n",
    "import pandas as pd\n",
    "import matplotlib.pyplot as plt\n",
    "import seaborn as sns\n",
    "\n",
    "from sklearn.preprocessing import StandardScaler\n",
    "from sklearn.model_selection import train_test_split\n",
    "from sklearn.model_selection import cross_val_score, KFold\n",
    "from sklearn.linear_model import LogisticRegression\n",
    "from sklearn.tree import DecisionTreeClassifier\n",
    "from sklearn.ensemble import RandomForestClassifier\n",
    "from sklearn.ensemble import GradientBoostingClassifier\n",
    "from sklearn.metrics import classification_report\n",
    "from sklearn.metrics import confusion_matrix"
   ]
  },
  {
   "cell_type": "markdown",
   "id": "15777044",
   "metadata": {},
   "source": [
    "<font size = 3><b>1.1. Importing datasets</b></font>"
   ]
  },
  {
   "cell_type": "code",
   "execution_count": 87,
   "id": "e881b9e5",
   "metadata": {},
   "outputs": [],
   "source": [
    "train = pd.read_csv('train.csv')\n",
    "test = pd.read_csv('test.csv')"
   ]
  },
  {
   "cell_type": "markdown",
   "id": "10198175",
   "metadata": {},
   "source": [
    "<font size = 2><b>1.1.1. Exploring data</b></font>"
   ]
  },
  {
   "cell_type": "code",
   "execution_count": 88,
   "id": "deb4090f",
   "metadata": {},
   "outputs": [
    {
     "data": {
      "text/html": [
       "<div>\n",
       "<style scoped>\n",
       "    .dataframe tbody tr th:only-of-type {\n",
       "        vertical-align: middle;\n",
       "    }\n",
       "\n",
       "    .dataframe tbody tr th {\n",
       "        vertical-align: top;\n",
       "    }\n",
       "\n",
       "    .dataframe thead th {\n",
       "        text-align: right;\n",
       "    }\n",
       "</style>\n",
       "<table border=\"1\" class=\"dataframe\">\n",
       "  <thead>\n",
       "    <tr style=\"text-align: right;\">\n",
       "      <th></th>\n",
       "      <th>PassengerId</th>\n",
       "      <th>Survived</th>\n",
       "      <th>Pclass</th>\n",
       "      <th>Name</th>\n",
       "      <th>Sex</th>\n",
       "      <th>Age</th>\n",
       "      <th>SibSp</th>\n",
       "      <th>Parch</th>\n",
       "      <th>Ticket</th>\n",
       "      <th>Fare</th>\n",
       "      <th>Cabin</th>\n",
       "      <th>Embarked</th>\n",
       "    </tr>\n",
       "  </thead>\n",
       "  <tbody>\n",
       "    <tr>\n",
       "      <th>0</th>\n",
       "      <td>1</td>\n",
       "      <td>0</td>\n",
       "      <td>3</td>\n",
       "      <td>Braund, Mr. Owen Harris</td>\n",
       "      <td>male</td>\n",
       "      <td>22.0</td>\n",
       "      <td>1</td>\n",
       "      <td>0</td>\n",
       "      <td>A/5 21171</td>\n",
       "      <td>7.2500</td>\n",
       "      <td>NaN</td>\n",
       "      <td>S</td>\n",
       "    </tr>\n",
       "    <tr>\n",
       "      <th>1</th>\n",
       "      <td>2</td>\n",
       "      <td>1</td>\n",
       "      <td>1</td>\n",
       "      <td>Cumings, Mrs. John Bradley (Florence Briggs Th...</td>\n",
       "      <td>female</td>\n",
       "      <td>38.0</td>\n",
       "      <td>1</td>\n",
       "      <td>0</td>\n",
       "      <td>PC 17599</td>\n",
       "      <td>71.2833</td>\n",
       "      <td>C85</td>\n",
       "      <td>C</td>\n",
       "    </tr>\n",
       "    <tr>\n",
       "      <th>2</th>\n",
       "      <td>3</td>\n",
       "      <td>1</td>\n",
       "      <td>3</td>\n",
       "      <td>Heikkinen, Miss. Laina</td>\n",
       "      <td>female</td>\n",
       "      <td>26.0</td>\n",
       "      <td>0</td>\n",
       "      <td>0</td>\n",
       "      <td>STON/O2. 3101282</td>\n",
       "      <td>7.9250</td>\n",
       "      <td>NaN</td>\n",
       "      <td>S</td>\n",
       "    </tr>\n",
       "    <tr>\n",
       "      <th>3</th>\n",
       "      <td>4</td>\n",
       "      <td>1</td>\n",
       "      <td>1</td>\n",
       "      <td>Futrelle, Mrs. Jacques Heath (Lily May Peel)</td>\n",
       "      <td>female</td>\n",
       "      <td>35.0</td>\n",
       "      <td>1</td>\n",
       "      <td>0</td>\n",
       "      <td>113803</td>\n",
       "      <td>53.1000</td>\n",
       "      <td>C123</td>\n",
       "      <td>S</td>\n",
       "    </tr>\n",
       "    <tr>\n",
       "      <th>4</th>\n",
       "      <td>5</td>\n",
       "      <td>0</td>\n",
       "      <td>3</td>\n",
       "      <td>Allen, Mr. William Henry</td>\n",
       "      <td>male</td>\n",
       "      <td>35.0</td>\n",
       "      <td>0</td>\n",
       "      <td>0</td>\n",
       "      <td>373450</td>\n",
       "      <td>8.0500</td>\n",
       "      <td>NaN</td>\n",
       "      <td>S</td>\n",
       "    </tr>\n",
       "  </tbody>\n",
       "</table>\n",
       "</div>"
      ],
      "text/plain": [
       "   PassengerId  Survived  Pclass  \\\n",
       "0            1         0       3   \n",
       "1            2         1       1   \n",
       "2            3         1       3   \n",
       "3            4         1       1   \n",
       "4            5         0       3   \n",
       "\n",
       "                                                Name     Sex   Age  SibSp  \\\n",
       "0                            Braund, Mr. Owen Harris    male  22.0      1   \n",
       "1  Cumings, Mrs. John Bradley (Florence Briggs Th...  female  38.0      1   \n",
       "2                             Heikkinen, Miss. Laina  female  26.0      0   \n",
       "3       Futrelle, Mrs. Jacques Heath (Lily May Peel)  female  35.0      1   \n",
       "4                           Allen, Mr. William Henry    male  35.0      0   \n",
       "\n",
       "   Parch            Ticket     Fare Cabin Embarked  \n",
       "0      0         A/5 21171   7.2500   NaN        S  \n",
       "1      0          PC 17599  71.2833   C85        C  \n",
       "2      0  STON/O2. 3101282   7.9250   NaN        S  \n",
       "3      0            113803  53.1000  C123        S  \n",
       "4      0            373450   8.0500   NaN        S  "
      ]
     },
     "execution_count": 88,
     "metadata": {},
     "output_type": "execute_result"
    }
   ],
   "source": [
    "train.head()"
   ]
  },
  {
   "cell_type": "code",
   "execution_count": 89,
   "id": "7f8225d4",
   "metadata": {
    "scrolled": true
   },
   "outputs": [
    {
     "data": {
      "text/html": [
       "<div>\n",
       "<style scoped>\n",
       "    .dataframe tbody tr th:only-of-type {\n",
       "        vertical-align: middle;\n",
       "    }\n",
       "\n",
       "    .dataframe tbody tr th {\n",
       "        vertical-align: top;\n",
       "    }\n",
       "\n",
       "    .dataframe thead th {\n",
       "        text-align: right;\n",
       "    }\n",
       "</style>\n",
       "<table border=\"1\" class=\"dataframe\">\n",
       "  <thead>\n",
       "    <tr style=\"text-align: right;\">\n",
       "      <th></th>\n",
       "      <th>PassengerId</th>\n",
       "      <th>Survived</th>\n",
       "      <th>Pclass</th>\n",
       "      <th>Name</th>\n",
       "      <th>Sex</th>\n",
       "      <th>Age</th>\n",
       "      <th>SibSp</th>\n",
       "      <th>Parch</th>\n",
       "      <th>Ticket</th>\n",
       "      <th>Fare</th>\n",
       "      <th>Cabin</th>\n",
       "      <th>Embarked</th>\n",
       "    </tr>\n",
       "  </thead>\n",
       "  <tbody>\n",
       "    <tr>\n",
       "      <th>886</th>\n",
       "      <td>887</td>\n",
       "      <td>0</td>\n",
       "      <td>2</td>\n",
       "      <td>Montvila, Rev. Juozas</td>\n",
       "      <td>male</td>\n",
       "      <td>27.0</td>\n",
       "      <td>0</td>\n",
       "      <td>0</td>\n",
       "      <td>211536</td>\n",
       "      <td>13.00</td>\n",
       "      <td>NaN</td>\n",
       "      <td>S</td>\n",
       "    </tr>\n",
       "    <tr>\n",
       "      <th>887</th>\n",
       "      <td>888</td>\n",
       "      <td>1</td>\n",
       "      <td>1</td>\n",
       "      <td>Graham, Miss. Margaret Edith</td>\n",
       "      <td>female</td>\n",
       "      <td>19.0</td>\n",
       "      <td>0</td>\n",
       "      <td>0</td>\n",
       "      <td>112053</td>\n",
       "      <td>30.00</td>\n",
       "      <td>B42</td>\n",
       "      <td>S</td>\n",
       "    </tr>\n",
       "    <tr>\n",
       "      <th>888</th>\n",
       "      <td>889</td>\n",
       "      <td>0</td>\n",
       "      <td>3</td>\n",
       "      <td>Johnston, Miss. Catherine Helen \"Carrie\"</td>\n",
       "      <td>female</td>\n",
       "      <td>NaN</td>\n",
       "      <td>1</td>\n",
       "      <td>2</td>\n",
       "      <td>W./C. 6607</td>\n",
       "      <td>23.45</td>\n",
       "      <td>NaN</td>\n",
       "      <td>S</td>\n",
       "    </tr>\n",
       "    <tr>\n",
       "      <th>889</th>\n",
       "      <td>890</td>\n",
       "      <td>1</td>\n",
       "      <td>1</td>\n",
       "      <td>Behr, Mr. Karl Howell</td>\n",
       "      <td>male</td>\n",
       "      <td>26.0</td>\n",
       "      <td>0</td>\n",
       "      <td>0</td>\n",
       "      <td>111369</td>\n",
       "      <td>30.00</td>\n",
       "      <td>C148</td>\n",
       "      <td>C</td>\n",
       "    </tr>\n",
       "    <tr>\n",
       "      <th>890</th>\n",
       "      <td>891</td>\n",
       "      <td>0</td>\n",
       "      <td>3</td>\n",
       "      <td>Dooley, Mr. Patrick</td>\n",
       "      <td>male</td>\n",
       "      <td>32.0</td>\n",
       "      <td>0</td>\n",
       "      <td>0</td>\n",
       "      <td>370376</td>\n",
       "      <td>7.75</td>\n",
       "      <td>NaN</td>\n",
       "      <td>Q</td>\n",
       "    </tr>\n",
       "  </tbody>\n",
       "</table>\n",
       "</div>"
      ],
      "text/plain": [
       "     PassengerId  Survived  Pclass                                      Name  \\\n",
       "886          887         0       2                     Montvila, Rev. Juozas   \n",
       "887          888         1       1              Graham, Miss. Margaret Edith   \n",
       "888          889         0       3  Johnston, Miss. Catherine Helen \"Carrie\"   \n",
       "889          890         1       1                     Behr, Mr. Karl Howell   \n",
       "890          891         0       3                       Dooley, Mr. Patrick   \n",
       "\n",
       "        Sex   Age  SibSp  Parch      Ticket   Fare Cabin Embarked  \n",
       "886    male  27.0      0      0      211536  13.00   NaN        S  \n",
       "887  female  19.0      0      0      112053  30.00   B42        S  \n",
       "888  female   NaN      1      2  W./C. 6607  23.45   NaN        S  \n",
       "889    male  26.0      0      0      111369  30.00  C148        C  \n",
       "890    male  32.0      0      0      370376   7.75   NaN        Q  "
      ]
     },
     "execution_count": 89,
     "metadata": {},
     "output_type": "execute_result"
    }
   ],
   "source": [
    "train.tail()"
   ]
  },
  {
   "cell_type": "markdown",
   "id": "0bc4677e",
   "metadata": {},
   "source": [
    "Columns in a DataFrame are:<br>\n",
    "PassengerID<br>\n",
    "Survived - whether a passenger survived or not (1 / 0)<br>\n",
    "Pclass - a proxy for socio-economic status (SES):<br>\n",
    "&emsp;1st = Upper<br>\n",
    "&emsp;2nd = Middle<br>\n",
    "&emsp;3rd = Lower<br>\n",
    "Name<br>\n",
    "Sex - gender of the passenger (male or female)<br>\n",
    "Age - age is fractional if less than 1. If the age is estimated, is it in the form of xx.5<br>\n",
    "SibSp - number of siblings / spouses on the Titanic<br>\n",
    "Parch - number of parents / children on the Titanice<br>\n",
    "Ticket - ticket number<br>\n",
    "Fare - ticket price<br>\n",
    "Cabin - Cabin number<br>\n",
    "Embarked - port of embarkation:<br>\n",
    "&emsp;C = Cherbourg<br>\n",
    "&emsp;Q = Queenstown<br>\n",
    "&emsp;S = Southampton.<br>"
   ]
  },
  {
   "cell_type": "code",
   "execution_count": 90,
   "id": "65db1c17",
   "metadata": {},
   "outputs": [
    {
     "data": {
      "text/plain": [
       "(891, 12)"
      ]
     },
     "execution_count": 90,
     "metadata": {},
     "output_type": "execute_result"
    }
   ],
   "source": [
    "train.shape"
   ]
  },
  {
   "cell_type": "code",
   "execution_count": 91,
   "id": "bd7093d6",
   "metadata": {},
   "outputs": [
    {
     "data": {
      "text/plain": [
       "Index(['PassengerId', 'Survived', 'Pclass', 'Name', 'Sex', 'Age', 'SibSp',\n",
       "       'Parch', 'Ticket', 'Fare', 'Cabin', 'Embarked'],\n",
       "      dtype='object')"
      ]
     },
     "execution_count": 91,
     "metadata": {},
     "output_type": "execute_result"
    }
   ],
   "source": [
    "train.columns"
   ]
  },
  {
   "cell_type": "code",
   "execution_count": 92,
   "id": "c399fff1",
   "metadata": {},
   "outputs": [
    {
     "data": {
      "text/plain": [
       "PassengerId      int64\n",
       "Survived         int64\n",
       "Pclass           int64\n",
       "Name            object\n",
       "Sex             object\n",
       "Age            float64\n",
       "SibSp            int64\n",
       "Parch            int64\n",
       "Ticket          object\n",
       "Fare           float64\n",
       "Cabin           object\n",
       "Embarked        object\n",
       "dtype: object"
      ]
     },
     "execution_count": 92,
     "metadata": {},
     "output_type": "execute_result"
    }
   ],
   "source": [
    "train.dtypes"
   ]
  },
  {
   "cell_type": "code",
   "execution_count": 93,
   "id": "1480aab5",
   "metadata": {},
   "outputs": [
    {
     "name": "stdout",
     "output_type": "stream",
     "text": [
      "<class 'pandas.core.frame.DataFrame'>\n",
      "RangeIndex: 891 entries, 0 to 890\n",
      "Data columns (total 12 columns):\n",
      " #   Column       Non-Null Count  Dtype  \n",
      "---  ------       --------------  -----  \n",
      " 0   PassengerId  891 non-null    int64  \n",
      " 1   Survived     891 non-null    int64  \n",
      " 2   Pclass       891 non-null    int64  \n",
      " 3   Name         891 non-null    object \n",
      " 4   Sex          891 non-null    object \n",
      " 5   Age          714 non-null    float64\n",
      " 6   SibSp        891 non-null    int64  \n",
      " 7   Parch        891 non-null    int64  \n",
      " 8   Ticket       891 non-null    object \n",
      " 9   Fare         891 non-null    float64\n",
      " 10  Cabin        204 non-null    object \n",
      " 11  Embarked     889 non-null    object \n",
      "dtypes: float64(2), int64(5), object(5)\n",
      "memory usage: 83.7+ KB\n"
     ]
    }
   ],
   "source": [
    "train.info()"
   ]
  },
  {
   "cell_type": "markdown",
   "id": "462b105d",
   "metadata": {},
   "source": [
    "There are some missing values in a DataFrame in columns: Age, Cabin and Embarked."
   ]
  },
  {
   "cell_type": "code",
   "execution_count": 94,
   "id": "6352b361",
   "metadata": {},
   "outputs": [
    {
     "data": {
      "text/html": [
       "<div>\n",
       "<style scoped>\n",
       "    .dataframe tbody tr th:only-of-type {\n",
       "        vertical-align: middle;\n",
       "    }\n",
       "\n",
       "    .dataframe tbody tr th {\n",
       "        vertical-align: top;\n",
       "    }\n",
       "\n",
       "    .dataframe thead th {\n",
       "        text-align: right;\n",
       "    }\n",
       "</style>\n",
       "<table border=\"1\" class=\"dataframe\">\n",
       "  <thead>\n",
       "    <tr style=\"text-align: right;\">\n",
       "      <th></th>\n",
       "      <th>PassengerId</th>\n",
       "      <th>Survived</th>\n",
       "      <th>Pclass</th>\n",
       "      <th>Age</th>\n",
       "      <th>SibSp</th>\n",
       "      <th>Parch</th>\n",
       "      <th>Fare</th>\n",
       "    </tr>\n",
       "  </thead>\n",
       "  <tbody>\n",
       "    <tr>\n",
       "      <th>count</th>\n",
       "      <td>891.000000</td>\n",
       "      <td>891.000000</td>\n",
       "      <td>891.000000</td>\n",
       "      <td>714.000000</td>\n",
       "      <td>891.000000</td>\n",
       "      <td>891.000000</td>\n",
       "      <td>891.000000</td>\n",
       "    </tr>\n",
       "    <tr>\n",
       "      <th>mean</th>\n",
       "      <td>446.000000</td>\n",
       "      <td>0.383838</td>\n",
       "      <td>2.308642</td>\n",
       "      <td>29.699118</td>\n",
       "      <td>0.523008</td>\n",
       "      <td>0.381594</td>\n",
       "      <td>32.204208</td>\n",
       "    </tr>\n",
       "    <tr>\n",
       "      <th>std</th>\n",
       "      <td>257.353842</td>\n",
       "      <td>0.486592</td>\n",
       "      <td>0.836071</td>\n",
       "      <td>14.526497</td>\n",
       "      <td>1.102743</td>\n",
       "      <td>0.806057</td>\n",
       "      <td>49.693429</td>\n",
       "    </tr>\n",
       "    <tr>\n",
       "      <th>min</th>\n",
       "      <td>1.000000</td>\n",
       "      <td>0.000000</td>\n",
       "      <td>1.000000</td>\n",
       "      <td>0.420000</td>\n",
       "      <td>0.000000</td>\n",
       "      <td>0.000000</td>\n",
       "      <td>0.000000</td>\n",
       "    </tr>\n",
       "    <tr>\n",
       "      <th>25%</th>\n",
       "      <td>223.500000</td>\n",
       "      <td>0.000000</td>\n",
       "      <td>2.000000</td>\n",
       "      <td>20.125000</td>\n",
       "      <td>0.000000</td>\n",
       "      <td>0.000000</td>\n",
       "      <td>7.910400</td>\n",
       "    </tr>\n",
       "    <tr>\n",
       "      <th>50%</th>\n",
       "      <td>446.000000</td>\n",
       "      <td>0.000000</td>\n",
       "      <td>3.000000</td>\n",
       "      <td>28.000000</td>\n",
       "      <td>0.000000</td>\n",
       "      <td>0.000000</td>\n",
       "      <td>14.454200</td>\n",
       "    </tr>\n",
       "    <tr>\n",
       "      <th>75%</th>\n",
       "      <td>668.500000</td>\n",
       "      <td>1.000000</td>\n",
       "      <td>3.000000</td>\n",
       "      <td>38.000000</td>\n",
       "      <td>1.000000</td>\n",
       "      <td>0.000000</td>\n",
       "      <td>31.000000</td>\n",
       "    </tr>\n",
       "    <tr>\n",
       "      <th>max</th>\n",
       "      <td>891.000000</td>\n",
       "      <td>1.000000</td>\n",
       "      <td>3.000000</td>\n",
       "      <td>80.000000</td>\n",
       "      <td>8.000000</td>\n",
       "      <td>6.000000</td>\n",
       "      <td>512.329200</td>\n",
       "    </tr>\n",
       "  </tbody>\n",
       "</table>\n",
       "</div>"
      ],
      "text/plain": [
       "       PassengerId    Survived      Pclass         Age       SibSp  \\\n",
       "count   891.000000  891.000000  891.000000  714.000000  891.000000   \n",
       "mean    446.000000    0.383838    2.308642   29.699118    0.523008   \n",
       "std     257.353842    0.486592    0.836071   14.526497    1.102743   \n",
       "min       1.000000    0.000000    1.000000    0.420000    0.000000   \n",
       "25%     223.500000    0.000000    2.000000   20.125000    0.000000   \n",
       "50%     446.000000    0.000000    3.000000   28.000000    0.000000   \n",
       "75%     668.500000    1.000000    3.000000   38.000000    1.000000   \n",
       "max     891.000000    1.000000    3.000000   80.000000    8.000000   \n",
       "\n",
       "            Parch        Fare  \n",
       "count  891.000000  891.000000  \n",
       "mean     0.381594   32.204208  \n",
       "std      0.806057   49.693429  \n",
       "min      0.000000    0.000000  \n",
       "25%      0.000000    7.910400  \n",
       "50%      0.000000   14.454200  \n",
       "75%      0.000000   31.000000  \n",
       "max      6.000000  512.329200  "
      ]
     },
     "execution_count": 94,
     "metadata": {},
     "output_type": "execute_result"
    }
   ],
   "source": [
    "train.describe()"
   ]
  },
  {
   "cell_type": "code",
   "execution_count": 95,
   "id": "3da61851",
   "metadata": {},
   "outputs": [
    {
     "data": {
      "text/html": [
       "<div>\n",
       "<style scoped>\n",
       "    .dataframe tbody tr th:only-of-type {\n",
       "        vertical-align: middle;\n",
       "    }\n",
       "\n",
       "    .dataframe tbody tr th {\n",
       "        vertical-align: top;\n",
       "    }\n",
       "\n",
       "    .dataframe thead th {\n",
       "        text-align: right;\n",
       "    }\n",
       "</style>\n",
       "<table border=\"1\" class=\"dataframe\">\n",
       "  <thead>\n",
       "    <tr style=\"text-align: right;\">\n",
       "      <th></th>\n",
       "      <th>Name</th>\n",
       "      <th>Sex</th>\n",
       "      <th>Ticket</th>\n",
       "      <th>Cabin</th>\n",
       "      <th>Embarked</th>\n",
       "    </tr>\n",
       "  </thead>\n",
       "  <tbody>\n",
       "    <tr>\n",
       "      <th>count</th>\n",
       "      <td>891</td>\n",
       "      <td>891</td>\n",
       "      <td>891</td>\n",
       "      <td>204</td>\n",
       "      <td>889</td>\n",
       "    </tr>\n",
       "    <tr>\n",
       "      <th>unique</th>\n",
       "      <td>891</td>\n",
       "      <td>2</td>\n",
       "      <td>681</td>\n",
       "      <td>147</td>\n",
       "      <td>3</td>\n",
       "    </tr>\n",
       "    <tr>\n",
       "      <th>top</th>\n",
       "      <td>Braund, Mr. Owen Harris</td>\n",
       "      <td>male</td>\n",
       "      <td>347082</td>\n",
       "      <td>B96 B98</td>\n",
       "      <td>S</td>\n",
       "    </tr>\n",
       "    <tr>\n",
       "      <th>freq</th>\n",
       "      <td>1</td>\n",
       "      <td>577</td>\n",
       "      <td>7</td>\n",
       "      <td>4</td>\n",
       "      <td>644</td>\n",
       "    </tr>\n",
       "  </tbody>\n",
       "</table>\n",
       "</div>"
      ],
      "text/plain": [
       "                           Name   Sex  Ticket    Cabin Embarked\n",
       "count                       891   891     891      204      889\n",
       "unique                      891     2     681      147        3\n",
       "top     Braund, Mr. Owen Harris  male  347082  B96 B98        S\n",
       "freq                          1   577       7        4      644"
      ]
     },
     "execution_count": 95,
     "metadata": {},
     "output_type": "execute_result"
    }
   ],
   "source": [
    "train.describe(include=['O'])"
   ]
  },
  {
   "cell_type": "code",
   "execution_count": 96,
   "id": "c7ae2f56",
   "metadata": {},
   "outputs": [
    {
     "data": {
      "text/plain": [
       "0"
      ]
     },
     "execution_count": 96,
     "metadata": {},
     "output_type": "execute_result"
    }
   ],
   "source": [
    "train.duplicated().sum()"
   ]
  },
  {
   "cell_type": "code",
   "execution_count": 97,
   "id": "f878a968",
   "metadata": {},
   "outputs": [
    {
     "data": {
      "text/plain": [
       "PassengerId      0\n",
       "Survived         0\n",
       "Pclass           0\n",
       "Name             0\n",
       "Sex              0\n",
       "Age            177\n",
       "SibSp            0\n",
       "Parch            0\n",
       "Ticket           0\n",
       "Fare             0\n",
       "Cabin          687\n",
       "Embarked         2\n",
       "dtype: int64"
      ]
     },
     "execution_count": 97,
     "metadata": {},
     "output_type": "execute_result"
    }
   ],
   "source": [
    "train.isna().sum()"
   ]
  },
  {
   "cell_type": "markdown",
   "id": "5c07b1ce",
   "metadata": {},
   "source": [
    "<font size = 5><b>2. Feature Engineering</b></font>"
   ]
  },
  {
   "cell_type": "markdown",
   "id": "917cc276",
   "metadata": {},
   "source": [
    "<font size = 3><b>2.1. Features creation</b></font>"
   ]
  },
  {
   "cell_type": "markdown",
   "id": "907ccaee",
   "metadata": {},
   "source": [
    "<font size = 2><b>2.1.1. Name column manipulation</b></font>"
   ]
  },
  {
   "cell_type": "markdown",
   "id": "70738fde",
   "metadata": {},
   "source": [
    "Let's extract person title from Name column."
   ]
  },
  {
   "cell_type": "code",
   "execution_count": 98,
   "id": "58fc1ab1",
   "metadata": {},
   "outputs": [],
   "source": [
    "train['Title'] = train['Name'].str.extract('([A-Za-z]+)\\.')\n",
    "test['Title'] = test['Name'].str.extract('([A-Za-z]+)\\.')"
   ]
  },
  {
   "cell_type": "code",
   "execution_count": 99,
   "id": "e487e846",
   "metadata": {},
   "outputs": [],
   "source": [
    "def main_title(title):\n",
    "    if title in ['Miss', 'Ms', 'Mlle']:\n",
    "        return 'Miss'\n",
    "    elif title in ['Mme', 'Mrs']:\n",
    "        return 'Mrs'\n",
    "    elif title == 'Mr':\n",
    "        return 'Mr'\n",
    "    elif title == 'Master':\n",
    "        return 'Master'\n",
    "    else:\n",
    "        return 'Other'\n",
    "\n",
    "train['Title'] = train['Title'].apply(main_title)\n",
    "test['Title'] = test['Title'].apply(main_title)"
   ]
  },
  {
   "cell_type": "markdown",
   "id": "57018722",
   "metadata": {},
   "source": [
    "<font size = 3><b>2.2. Handling missing data</b></font>"
   ]
  },
  {
   "cell_type": "markdown",
   "id": "2077e147",
   "metadata": {},
   "source": [
    "<font size = 2><b>2.2.1. Calculating missing data</b></font>"
   ]
  },
  {
   "cell_type": "code",
   "execution_count": 100,
   "id": "4000808c",
   "metadata": {},
   "outputs": [
    {
     "data": {
      "text/html": [
       "<div>\n",
       "<style scoped>\n",
       "    .dataframe tbody tr th:only-of-type {\n",
       "        vertical-align: middle;\n",
       "    }\n",
       "\n",
       "    .dataframe tbody tr th {\n",
       "        vertical-align: top;\n",
       "    }\n",
       "\n",
       "    .dataframe thead th {\n",
       "        text-align: right;\n",
       "    }\n",
       "</style>\n",
       "<table border=\"1\" class=\"dataframe\">\n",
       "  <thead>\n",
       "    <tr style=\"text-align: right;\">\n",
       "      <th></th>\n",
       "      <th>Count NaN</th>\n",
       "      <th>% NaN</th>\n",
       "    </tr>\n",
       "  </thead>\n",
       "  <tbody>\n",
       "    <tr>\n",
       "      <th>Cabin</th>\n",
       "      <td>687</td>\n",
       "      <td>77.104377</td>\n",
       "    </tr>\n",
       "    <tr>\n",
       "      <th>Age</th>\n",
       "      <td>177</td>\n",
       "      <td>19.865320</td>\n",
       "    </tr>\n",
       "    <tr>\n",
       "      <th>Embarked</th>\n",
       "      <td>2</td>\n",
       "      <td>0.224467</td>\n",
       "    </tr>\n",
       "    <tr>\n",
       "      <th>PassengerId</th>\n",
       "      <td>0</td>\n",
       "      <td>0.000000</td>\n",
       "    </tr>\n",
       "    <tr>\n",
       "      <th>Survived</th>\n",
       "      <td>0</td>\n",
       "      <td>0.000000</td>\n",
       "    </tr>\n",
       "    <tr>\n",
       "      <th>Pclass</th>\n",
       "      <td>0</td>\n",
       "      <td>0.000000</td>\n",
       "    </tr>\n",
       "    <tr>\n",
       "      <th>Name</th>\n",
       "      <td>0</td>\n",
       "      <td>0.000000</td>\n",
       "    </tr>\n",
       "    <tr>\n",
       "      <th>Sex</th>\n",
       "      <td>0</td>\n",
       "      <td>0.000000</td>\n",
       "    </tr>\n",
       "    <tr>\n",
       "      <th>SibSp</th>\n",
       "      <td>0</td>\n",
       "      <td>0.000000</td>\n",
       "    </tr>\n",
       "    <tr>\n",
       "      <th>Parch</th>\n",
       "      <td>0</td>\n",
       "      <td>0.000000</td>\n",
       "    </tr>\n",
       "    <tr>\n",
       "      <th>Ticket</th>\n",
       "      <td>0</td>\n",
       "      <td>0.000000</td>\n",
       "    </tr>\n",
       "    <tr>\n",
       "      <th>Fare</th>\n",
       "      <td>0</td>\n",
       "      <td>0.000000</td>\n",
       "    </tr>\n",
       "    <tr>\n",
       "      <th>Title</th>\n",
       "      <td>0</td>\n",
       "      <td>0.000000</td>\n",
       "    </tr>\n",
       "  </tbody>\n",
       "</table>\n",
       "</div>"
      ],
      "text/plain": [
       "             Count NaN      % NaN\n",
       "Cabin              687  77.104377\n",
       "Age                177  19.865320\n",
       "Embarked             2   0.224467\n",
       "PassengerId          0   0.000000\n",
       "Survived             0   0.000000\n",
       "Pclass               0   0.000000\n",
       "Name                 0   0.000000\n",
       "Sex                  0   0.000000\n",
       "SibSp                0   0.000000\n",
       "Parch                0   0.000000\n",
       "Ticket               0   0.000000\n",
       "Fare                 0   0.000000\n",
       "Title                0   0.000000"
      ]
     },
     "execution_count": 100,
     "metadata": {},
     "output_type": "execute_result"
    }
   ],
   "source": [
    "def missingvalues(df):\n",
    "    \"\"\"Counts number and percentage of missing values in DataFrame by column.\n",
    "    \n",
    "    Args:\n",
    "        df (DataFrame): The DataFrame to be checked for NaNs.\n",
    "        \n",
    "    Returns:\n",
    "        DataFrame\n",
    "    \"\"\"\n",
    "    sum_missing = df.isna().sum().sort_values(ascending=False)\n",
    "    perc_missing = sum_missing / len(df) * 100\n",
    "    return pd.DataFrame({'Count NaN':sum_missing, '% NaN':perc_missing})\n",
    "\n",
    "missingvalues(train)"
   ]
  },
  {
   "cell_type": "markdown",
   "id": "8d893c7c",
   "metadata": {},
   "source": [
    "There are 687 NaNs in Cabin column which is 77.1 % of all values in that column.<br>\n",
    "What is more, there are 177 and 2 NaNs in Age and Embarked columns, respectively."
   ]
  },
  {
   "cell_type": "markdown",
   "id": "9c687d5f",
   "metadata": {},
   "source": [
    "There are 19.86% of NaNs in Age column.\n",
    "Let's find a way to impute these data.\n",
    "Let's check correlation between numeric values first."
   ]
  },
  {
   "cell_type": "code",
   "execution_count": 101,
   "id": "499db56a",
   "metadata": {},
   "outputs": [
    {
     "data": {
      "text/plain": [
       "PassengerId    0.036847\n",
       "Survived      -0.077221\n",
       "Pclass        -0.369226\n",
       "Age            1.000000\n",
       "SibSp         -0.308247\n",
       "Parch         -0.189119\n",
       "Fare           0.096067\n",
       "Name: Age, dtype: float64"
      ]
     },
     "execution_count": 101,
     "metadata": {},
     "output_type": "execute_result"
    }
   ],
   "source": [
    "train.corr()['Age']"
   ]
  },
  {
   "cell_type": "markdown",
   "id": "ae4875be",
   "metadata": {},
   "source": [
    "This is not looking nice. Let's try with a Title column."
   ]
  },
  {
   "cell_type": "code",
   "execution_count": 102,
   "id": "72d11013",
   "metadata": {},
   "outputs": [
    {
     "data": {
      "image/png": "[encoded data removed]",
      "text/plain": [
       "<Figure size 432x288 with 1 Axes>"
      ]
     },
     "metadata": {},
     "output_type": "display_data"
    }
   ],
   "source": [
    "sns.boxplot(x='Title', y='Age', data=train)\n",
    "plt.show()"
   ]
  },
  {
   "cell_type": "markdown",
   "id": "3f681b98",
   "metadata": {},
   "source": [
    "It looks quite good. Let's group DataFrame by Title column and get mean value of age. Then we will impute NaNs from Age by Title."
   ]
  },
  {
   "cell_type": "code",
   "execution_count": 103,
   "id": "90c11362",
   "metadata": {},
   "outputs": [
    {
     "data": {
      "text/plain": [
       "Title\n",
       "Master     4.574167\n",
       "Miss      21.845638\n",
       "Mr        32.368090\n",
       "Mrs       35.788991\n",
       "Other     45.545455\n",
       "Name: Age, dtype: float64"
      ]
     },
     "execution_count": 103,
     "metadata": {},
     "output_type": "execute_result"
    }
   ],
   "source": [
    "train.groupby('Title')['Age'].mean()"
   ]
  },
  {
   "cell_type": "code",
   "execution_count": 104,
   "id": "a1b0ff42",
   "metadata": {},
   "outputs": [],
   "source": [
    "train.loc[(train['Title'] == 'Master') & (train['Age'].isna()), 'Age'] = 5\n",
    "train.loc[(train['Title'] == 'Miss') & (train['Age'].isna()), 'Age'] = 22\n",
    "train.loc[(train['Title'] == 'Mr') & (train['Age'].isna()), 'Age'] = 32\n",
    "train.loc[(train['Title'] == 'Mrs') & (train['Age'].isna()), 'Age'] = 36\n",
    "train.loc[(train['Title'] == 'Other') & (train['Age'].isna()), 'Age'] = 46\n",
    "\n",
    "test.loc[(train['Title'] == 'Master') & (test['Age'].isna()), 'Age'] = 5\n",
    "test.loc[(train['Title'] == 'Miss') & (test['Age'].isna()), 'Age'] = 22\n",
    "test.loc[(train['Title'] == 'Mr') & (test['Age'].isna()), 'Age'] = 32\n",
    "test.loc[(train['Title'] == 'Mrs') & (test['Age'].isna()), 'Age'] = 36\n",
    "test.loc[(train['Title'] == 'Other') & (test['Age'].isna()), 'Age'] = 46"
   ]
  },
  {
   "cell_type": "code",
   "execution_count": 105,
   "id": "e14cea10",
   "metadata": {},
   "outputs": [],
   "source": [
    "def replace_nan(df):\n",
    "    \"\"\"Replace NaNs with mode() for object columns and mean() for numeric columns\n",
    "    \n",
    "    Args:\n",
    "        df (DataFrame): The DataFrame to imput NaN values.\n",
    "    \n",
    "    Returns:\n",
    "        DataFrame\n",
    "    \"\"\"\n",
    "    for col in df.columns:\n",
    "        if df[col].dtype == 'object':\n",
    "            df[col].fillna(df[col].mode()[0], inplace=True)\n",
    "        else:\n",
    "            df[col].fillna(df[col].mean(), inplace=True)\n",
    "\n",
    "replace_nan(train)\n",
    "replace_nan(test)"
   ]
  },
  {
   "cell_type": "code",
   "execution_count": 106,
   "id": "6308df53",
   "metadata": {},
   "outputs": [],
   "source": [
    "train.dropna(inplace=True)\n",
    "test.dropna(inplace=True)"
   ]
  },
  {
   "cell_type": "code",
   "execution_count": 107,
   "id": "eb7f367b",
   "metadata": {},
   "outputs": [
    {
     "data": {
      "text/plain": [
       "PassengerId    0\n",
       "Survived       0\n",
       "Pclass         0\n",
       "Name           0\n",
       "Sex            0\n",
       "Age            0\n",
       "SibSp          0\n",
       "Parch          0\n",
       "Ticket         0\n",
       "Fare           0\n",
       "Cabin          0\n",
       "Embarked       0\n",
       "Title          0\n",
       "dtype: int64"
      ]
     },
     "execution_count": 107,
     "metadata": {},
     "output_type": "execute_result"
    }
   ],
   "source": [
    "train.isna().sum()"
   ]
  },
  {
   "cell_type": "markdown",
   "id": "1325cbf1",
   "metadata": {},
   "source": [
    "There are no more missing data in a DataFrame."
   ]
  },
  {
   "cell_type": "markdown",
   "id": "433405f5",
   "metadata": {},
   "source": [
    "<font size = 5><b>3. Data visualization</b></font>"
   ]
  },
  {
   "cell_type": "code",
   "execution_count": 108,
   "id": "f78c859b",
   "metadata": {},
   "outputs": [],
   "source": [
    "sns.set_style(\"darkgrid\")\n",
    "sns.set_palette([\"orange\", \"purple\", \"green\"])"
   ]
  },
  {
   "cell_type": "markdown",
   "id": "5fd6001d",
   "metadata": {},
   "source": [
    "<font size = 3><b>3.1. Visualization of correlation with Survived column</b></font>"
   ]
  },
  {
   "cell_type": "code",
   "execution_count": 109,
   "id": "38dd10dc",
   "metadata": {
    "scrolled": true
   },
   "outputs": [
    {
     "data": {
      "image/png": "[encoded data removed]",
      "text/plain": [
       "<Figure size 720x576 with 1 Axes>"
      ]
     },
     "metadata": {},
     "output_type": "display_data"
    }
   ],
   "source": [
    "fig1, ax1 = plt.subplots(figsize=(10, 8))\n",
    "train['Survived'].value_counts().plot.pie(labels=['No', 'Yes'], explode=[0.05, 0], autopct='%1.1f%%', shadow=True)\n",
    "plt.show()"
   ]
  },
  {
   "cell_type": "markdown",
   "id": "6e791463",
   "metadata": {},
   "source": [
    "It can be observed that 61.6% of passengers didn't survive the disaster."
   ]
  },
  {
   "cell_type": "markdown",
   "id": "f497f046",
   "metadata": {},
   "source": [
    "<font size = 2><b>3.1.1. Pclass vs Survived</b></font>"
   ]
  },
  {
   "cell_type": "code",
   "execution_count": 110,
   "id": "c644c541",
   "metadata": {},
   "outputs": [
    {
     "data": {
      "image/png": "[encoded data removed]",
      "text/plain": [
       "<Figure size 1440x576 with 2 Axes>"
      ]
     },
     "metadata": {},
     "output_type": "display_data"
    }
   ],
   "source": [
    "fig2, ax2 = plt.subplots(1, 2, figsize=(20, 8))\n",
    "sns.countplot(x='Pclass', hue='Survived', data=train, ax=ax2[0])\n",
    "train['Pclass'].value_counts().plot.pie(explode=[0.05, 0.05, 0.05], autopct='%1.1f%%', shadow=True, ax=ax2[1])\n",
    "plt.show()"
   ]
  },
  {
   "cell_type": "markdown",
   "id": "76d40443",
   "metadata": {},
   "source": [
    "There is a similar number of survivors across all economic status.\n",
    "However, pie plot shows that 55.1% of all passengers had lower economic status.\n",
    "People with higher economic status had more chance to survive.\n",
    "Let's check it with a 'Fare' column."
   ]
  },
  {
   "cell_type": "markdown",
   "id": "05d5f3c3",
   "metadata": {},
   "source": [
    "<font size = 2><b>3.1.2. Fare vs Survived</b></font>"
   ]
  },
  {
   "cell_type": "code",
   "execution_count": 111,
   "id": "94456a1b",
   "metadata": {},
   "outputs": [
    {
     "data": {
      "image/png": "[encoded data removed]",
      "text/plain": [
       "<Figure size 720x576 with 1 Axes>"
      ]
     },
     "metadata": {},
     "output_type": "display_data"
    }
   ],
   "source": [
    "fig3, ax3 = plt.subplots(figsize=(10, 8))\n",
    "sns.histplot(x='Fare', hue='Survived', data=train, bins=15, multiple='stack')\n",
    "plt.show()"
   ]
  },
  {
   "cell_type": "markdown",
   "id": "c2802830",
   "metadata": {},
   "source": [
    "The above assumptions are confirmed. Comparing percentage values there are more survivors with more expensive ticket."
   ]
  },
  {
   "cell_type": "markdown",
   "id": "3b768bd8",
   "metadata": {},
   "source": [
    "<font size = 2><b>3.1.3. Sex vs Survived</b></font>"
   ]
  },
  {
   "cell_type": "code",
   "execution_count": 112,
   "id": "b31bb326",
   "metadata": {},
   "outputs": [
    {
     "data": {
      "image/png": "[encoded data removed]",
      "text/plain": [
       "<Figure size 1440x576 with 2 Axes>"
      ]
     },
     "metadata": {},
     "output_type": "display_data"
    }
   ],
   "source": [
    "fig4, ax4 = plt.subplots(1, 2, figsize=(20, 8))\n",
    "sns.countplot(x='Sex', hue='Survived', data=train, ax=ax4[0])\n",
    "train.loc[train['Sex'] == 'female', ['Sex', 'Survived']].value_counts().sort_values().plot.pie(labels=[\"Didn't survive\", 'Survived'], explode=[0.05, 0], autopct='%1.1f%%', shadow=True, ax=ax4[1])\n",
    "plt.title('Females')\n",
    "plt.show()"
   ]
  },
  {
   "cell_type": "markdown",
   "id": "0162b68d",
   "metadata": {},
   "source": [
    "The chart above show that there is a huge disproportion in survival between sexes.\n",
    "Females were more willignly allowed on lifeboats. 74.2% of them survived."
   ]
  },
  {
   "cell_type": "markdown",
   "id": "fbf1af55",
   "metadata": {},
   "source": [
    "<font size = 2><b>3.1.4. Age vs Survived</b></font>"
   ]
  },
  {
   "cell_type": "code",
   "execution_count": 113,
   "id": "cdc77b5e",
   "metadata": {},
   "outputs": [
    {
     "data": {
      "image/png": "[encoded data removed]",
      "text/plain": [
       "<Figure size 720x576 with 1 Axes>"
      ]
     },
     "metadata": {},
     "output_type": "display_data"
    }
   ],
   "source": [
    "fig5, ax5 = plt.subplots(figsize=(10, 8))\n",
    "sns.histplot(x='Age', kde=True, hue='Survived', data=train, bins=20, multiple='stack')\n",
    "plt.show()"
   ]
  },
  {
   "cell_type": "markdown",
   "id": "c8aa27c2",
   "metadata": {},
   "source": [
    "From the plot above it can be concluded that many people with age 0-8 survived.\n",
    "It looks that young babies were favored during the rescue operation.\n",
    "Let's take a closer look."
   ]
  },
  {
   "cell_type": "code",
   "execution_count": 114,
   "id": "d9c8470b",
   "metadata": {},
   "outputs": [
    {
     "name": "stdout",
     "output_type": "stream",
     "text": [
      "Age 0-4 survivors:  27\n",
      "Age 5-8 survivors:  11\n",
      "Age 0-4 died:  13\n",
      "Age 5-8 died:  7\n"
     ]
    }
   ],
   "source": [
    "age_0_4_surv = train[(train['Age'] <=4) & (train['Survived'] == 1)].shape[0]\n",
    "age_0_4_not_surv = train[(train['Age'] <=4) & (train['Survived'] == 0)].shape[0]\n",
    "age_5_8_surv = train[(train['Age'] > 4) & (train['Age'] <=8) & (train['Survived'] == 1)].shape[0]\n",
    "age_5_8_not_surv = train[(train['Age'] > 4) & (train['Age'] <=8) & (train['Survived'] == 0)].shape[0]\n",
    "\n",
    "print('Age 0-4 survivors: ', age_0_4_surv)\n",
    "print('Age 5-8 survivors: ', age_5_8_surv)\n",
    "print('Age 0-4 died: ', age_0_4_not_surv)\n",
    "print('Age 5-8 died: ', age_5_8_not_surv)"
   ]
  },
  {
   "cell_type": "markdown",
   "id": "c7e75c04",
   "metadata": {},
   "source": [
    "<font size = 2><b>3.1.5. SibSp and Parch vs Survived</b></font>"
   ]
  },
  {
   "cell_type": "code",
   "execution_count": 115,
   "id": "7bcc190d",
   "metadata": {},
   "outputs": [
    {
     "data": {
      "image/png": "[encoded data removed]",
      "text/plain": [
       "<Figure size 1440x576 with 2 Axes>"
      ]
     },
     "metadata": {},
     "output_type": "display_data"
    }
   ],
   "source": [
    "fig6, ax6 = plt.subplots(1, 2, figsize=(20, 8))\n",
    "sns.countplot(x='SibSp', hue='Survived', data=train, ax=ax6[0])\n",
    "sns.countplot(x='Parch', hue='Survived', data=train, ax=ax6[1])\n",
    "plt.show()"
   ]
  },
  {
   "cell_type": "markdown",
   "id": "0c098132",
   "metadata": {},
   "source": [
    "There is a tend that people who has 1 or 2 family relationships had a higher chance to survive.\n",
    "It is probably because they didn't want to be separated."
   ]
  },
  {
   "cell_type": "markdown",
   "id": "470d09d6",
   "metadata": {},
   "source": [
    "<font size = 2><b>3.1.6. Embarked vs Survived</b></font>"
   ]
  },
  {
   "cell_type": "code",
   "execution_count": 116,
   "id": "e02be4f2",
   "metadata": {
    "scrolled": true
   },
   "outputs": [
    {
     "data": {
      "image/png": "[encoded data removed]",
      "text/plain": [
       "<Figure size 720x576 with 1 Axes>"
      ]
     },
     "metadata": {},
     "output_type": "display_data"
    }
   ],
   "source": [
    "fig7, ax7 = plt.subplots(figsize=(10, 8))\n",
    "sns.countplot(x='Embarked', hue='Survived', data=train)\n",
    "plt.show()"
   ]
  },
  {
   "cell_type": "markdown",
   "id": "212fbb7d",
   "metadata": {},
   "source": [
    "People embarked in Cherbourg had higher odds to survive."
   ]
  },
  {
   "cell_type": "markdown",
   "id": "4949f5d6",
   "metadata": {},
   "source": [
    "<font size = 3><b>3.2. Correlation heatmap</b></font>"
   ]
  },
  {
   "cell_type": "code",
   "execution_count": 117,
   "id": "919fb566",
   "metadata": {},
   "outputs": [
    {
     "data": {
      "image/png": "[encoded data removed]",
      "text/plain": [
       "<Figure size 1440x576 with 2 Axes>"
      ]
     },
     "metadata": {},
     "output_type": "display_data"
    }
   ],
   "source": [
    "fig8, ax8 = plt.subplots(figsize=(20, 8))\n",
    "sns.heatmap(train.corr(), annot=True)\n",
    "plt.show()"
   ]
  },
  {
   "cell_type": "markdown",
   "id": "dd4ad34a",
   "metadata": {},
   "source": [
    "Heatmap confirms correlation between Pclass, Fare vs Survived.\n",
    "People with higher economy class survived more often than middle and lower."
   ]
  },
  {
   "cell_type": "markdown",
   "id": "5e095de8",
   "metadata": {},
   "source": [
    "<font size = 5><b>4. Model building</b></font>"
   ]
  },
  {
   "cell_type": "markdown",
   "id": "fb6883cf",
   "metadata": {},
   "source": [
    "<font size = 3><b>4.1. Data preparation</b></font>"
   ]
  },
  {
   "cell_type": "markdown",
   "id": "0bca9a99",
   "metadata": {},
   "source": [
    "<font size = 2><b>4.1.1. Dropping columns</b></font>"
   ]
  },
  {
   "cell_type": "markdown",
   "id": "96416d12",
   "metadata": {},
   "source": [
    "Some columns don't bring significant value and can confuse a model. Let's delete them."
   ]
  },
  {
   "cell_type": "code",
   "execution_count": 118,
   "id": "6b4eb03f",
   "metadata": {
    "scrolled": true
   },
   "outputs": [],
   "source": [
    "train.drop(['PassengerId', 'Name', 'Ticket', 'Cabin'], axis=1, inplace=True)\n",
    "test.drop(['Name', 'Ticket', 'Cabin'], axis=1, inplace=True)\n",
    "test_passengerid = test['PassengerId']\n",
    "test.drop('PassengerId', axis=1, inplace=True)"
   ]
  },
  {
   "cell_type": "markdown",
   "id": "6cb7e58b",
   "metadata": {},
   "source": [
    "<font size = 2><b>4.1.2. Sex column conversion</b></font>"
   ]
  },
  {
   "cell_type": "code",
   "execution_count": 119,
   "id": "b0333171",
   "metadata": {},
   "outputs": [],
   "source": [
    "train['Sex'] = train['Sex'].replace({'female':1, 'male':0})\n",
    "test['Sex'] = test['Sex'].replace({'female':1, 'male':0})"
   ]
  },
  {
   "cell_type": "markdown",
   "id": "88771db0",
   "metadata": {},
   "source": [
    "<font size = 2><b>4.1.3. Categorical columns conversion</b></font>"
   ]
  },
  {
   "cell_type": "code",
   "execution_count": 120,
   "id": "13816047",
   "metadata": {},
   "outputs": [],
   "source": [
    "train = pd.get_dummies(train, prefix=['Embarked', 'Title'])\n",
    "test = pd.get_dummies(test, prefix=['Embarked', 'Title'])"
   ]
  },
  {
   "cell_type": "markdown",
   "id": "0c5997c1",
   "metadata": {},
   "source": [
    "<font size = 3><b>4.2. Splitting dataset</b></font>"
   ]
  },
  {
   "cell_type": "code",
   "execution_count": 121,
   "id": "d8db032a",
   "metadata": {},
   "outputs": [],
   "source": [
    "X = train.drop('Survived', axis=1)\n",
    "y = train['Survived']\n",
    "X_t = test.copy()"
   ]
  },
  {
   "cell_type": "markdown",
   "id": "faa6d695",
   "metadata": {},
   "source": [
    "<font size = 3><b>4.3. Scaling data</b></font>"
   ]
  },
  {
   "cell_type": "code",
   "execution_count": 122,
   "id": "38f60742",
   "metadata": {},
   "outputs": [],
   "source": [
    "scaler = StandardScaler()\n",
    "X_scaled = scaler.fit_transform(X)\n",
    "X_t_scaled = scaler.transform(X_t)"
   ]
  },
  {
   "cell_type": "code",
   "execution_count": 123,
   "id": "843519c2",
   "metadata": {},
   "outputs": [],
   "source": [
    "X_train, X_test, y_train, y_test = train_test_split(X_scaled, y, test_size=0.2, random_state=1712)"
   ]
  },
  {
   "cell_type": "markdown",
   "id": "02547f33",
   "metadata": {},
   "source": [
    "<font size = 3><b>4.4. Instantiate models</b></font>"
   ]
  },
  {
   "cell_type": "code",
   "execution_count": 124,
   "id": "237e9bbd",
   "metadata": {},
   "outputs": [],
   "source": [
    "logreg = LogisticRegression()\n",
    "dtc = DecisionTreeClassifier()\n",
    "rfc = RandomForestClassifier()\n",
    "gbc = GradientBoostingClassifier()\n",
    "models = {'LogisticRegression':logreg, 'DecisionTreeClassifier':dtc, 'RandomForestClassifier':rfc, 'GradientBoostingClassifier':gbc}"
   ]
  },
  {
   "cell_type": "markdown",
   "id": "2d4ea672",
   "metadata": {},
   "source": [
    "<font size = 3><b>4.5. Cross validation</b></font>"
   ]
  },
  {
   "cell_type": "code",
   "execution_count": 125,
   "id": "7100aded",
   "metadata": {
    "scrolled": true
   },
   "outputs": [
    {
     "name": "stdout",
     "output_type": "stream",
     "text": [
      "LogisticRegression  accuracy:  0.8271939328277357\n",
      "DecisionTreeClassifier  accuracy:  0.7836600019698612\n",
      "RandomForestClassifier  accuracy:  0.8215798286220821\n",
      "GradientBoostingClassifier  accuracy:  0.8286319314488327\n"
     ]
    }
   ],
   "source": [
    "kf = KFold(n_splits=5, shuffle=True, random_state=1712)\n",
    "for key, value in models.items():\n",
    "    cv = cross_val_score(value, X_train, y_train, cv=kf, scoring='accuracy')\n",
    "    print(key, ' accuracy: ', cv.mean())"
   ]
  },
  {
   "cell_type": "markdown",
   "id": "a9782747",
   "metadata": {},
   "source": [
    "GradientBoostingClassifier shows the best accuarcy from all models. Let's hyperparameter it!"
   ]
  },
  {
   "cell_type": "markdown",
   "id": "2accc329",
   "metadata": {},
   "source": [
    "<font size = 3><b>4.6. Hyperparameter optimization</b></font>"
   ]
  },
  {
   "cell_type": "code",
   "execution_count": 126,
   "id": "d605cde2",
   "metadata": {
    "scrolled": true
   },
   "outputs": [
    {
     "name": "stdout",
     "output_type": "stream",
     "text": [
      "Best score:  0.8272431793558553\n",
      "Best hyperparameter:  {'max_depth': 3, 'max_features': 'sqrt', 'min_samples_leaf': 0.1, 'n_estimators': 400}\n"
     ]
    }
   ],
   "source": [
    "from sklearn.model_selection import GridSearchCV\n",
    "params = {'max_depth':[2, 3],\n",
    "          'min_samples_leaf':[0.1, 0.2],\n",
    "          'n_estimators':[200, 300, 400],\n",
    "          'max_features':['sqrt', 'log2']}\n",
    "gs = GridSearchCV(gbc, param_grid=params, cv=kf)\n",
    "gs.fit(X_train, y_train)\n",
    "print('Best score: ', gs.best_score_)\n",
    "print('Best hyperparameter: ', gs.best_params_)"
   ]
  },
  {
   "cell_type": "markdown",
   "id": "64e4c456",
   "metadata": {},
   "source": [
    "<font size = 3><b>4.7. Model results</b></font>"
   ]
  },
  {
   "cell_type": "code",
   "execution_count": 127,
   "id": "7adbead9",
   "metadata": {},
   "outputs": [
    {
     "name": "stdout",
     "output_type": "stream",
     "text": [
      "Classification report:                precision    recall  f1-score   support\n",
      "\n",
      "           0       0.80      0.90      0.84       105\n",
      "           1       0.82      0.68      0.74        74\n",
      "\n",
      "    accuracy                           0.80       179\n",
      "   macro avg       0.81      0.79      0.79       179\n",
      "weighted avg       0.81      0.80      0.80       179\n",
      "\n",
      "Confusion matrix: \n",
      " [[94 11]\n",
      " [24 50]]\n"
     ]
    }
   ],
   "source": [
    "y_pred = gs.predict(X_test)\n",
    "print('Classification report: ', classification_report(y_test, y_pred))\n",
    "print('Confusion matrix: \\n', confusion_matrix(y_test, y_pred))"
   ]
  },
  {
   "cell_type": "markdown",
   "id": "68da73f8",
   "metadata": {},
   "source": [
    "<font size = 5><b>5. Submission</b></font>"
   ]
  },
  {
   "cell_type": "markdown",
   "id": "3c02e2ee",
   "metadata": {},
   "source": [
    "<font size = 3><b>5.1. Predicting data</b></font>"
   ]
  },
  {
   "cell_type": "code",
   "execution_count": 128,
   "id": "484cd388",
   "metadata": {},
   "outputs": [],
   "source": [
    "y_pred2 = gs.predict(X_t_scaled)"
   ]
  },
  {
   "cell_type": "markdown",
   "id": "a392ab66",
   "metadata": {},
   "source": [
    "<font size = 3><b>5.2. Exporting data</b></font>"
   ]
  },
  {
   "cell_type": "code",
   "execution_count": 129,
   "id": "ad1cef4c",
   "metadata": {},
   "outputs": [],
   "source": [
    "submission = pd.DataFrame({'PassengerId':test_passengerid, 'Survived':y_pred2})\n",
    "submission.to_csv('submission_titanic.csv', index=False)"
   ]
  },
  {
   "cell_type": "markdown",
   "id": "d11e7332",
   "metadata": {},
   "source": [
    "<font size = 3><b>5.2. Summary of predicted data</b></font>"
   ]
  },
  {
   "cell_type": "code",
   "execution_count": 130,
   "id": "4b904339",
   "metadata": {
    "scrolled": true
   },
   "outputs": [
    {
     "data": {
      "image/png": "[encoded data removed]",
      "text/plain": [
       "<Figure size 432x288 with 1 Axes>"
      ]
     },
     "metadata": {},
     "output_type": "display_data"
    },
    {
     "name": "stdout",
     "output_type": "stream",
     "text": [
      "Total Survivors in test data from a model:  129\n",
      "Total Dead in test data from a model:  289\n"
     ]
    }
   ],
   "source": [
    "sns.countplot(x='Survived', data=submission)\n",
    "plt.show()\n",
    "print('Total Survivors in test data from a model: ', submission['Survived'].value_counts()[1])\n",
    "print('Total Dead in test data from a model: ', submission['Survived'].value_counts()[0])"
   ]
  }
 ],
 "metadata": {
  "kernelspec": {
   "display_name": "Python 3 (ipykernel)",
   "language": "python",
   "name": "python3"
  },
  "language_info": {
   "codemirror_mode": {
    "name": "ipython",
    "version": 3
   },
   "file_extension": ".py",
   "mimetype": "text/x-python",
   "name": "python",
   "nbconvert_exporter": "python",
   "pygments_lexer": "ipython3",
   "version": "3.10.2"
  }
 },
 "nbformat": 4,
 "nbformat_minor": 5
}
